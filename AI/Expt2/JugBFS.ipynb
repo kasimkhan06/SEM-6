{
 "cells": [
  {
   "cell_type": "code",
   "execution_count": 62,
   "metadata": {},
   "outputs": [],
   "source": [
    "import queue as Queue"
   ]
  },
  {
   "cell_type": "code",
   "execution_count": 63,
   "metadata": {},
   "outputs": [],
   "source": [
    "def storePath(initial , final , parent , allPaths) :\n",
    "    for currNode in final:\n",
    "        path = []\n",
    "        curr = currNode\n",
    "        if curr not in parent.keys():\n",
    "            continue\n",
    "        while curr != initial:\n",
    "            path.append(curr)\n",
    "            curr = parent[curr]\n",
    "        path.append(initial)\n",
    "        path = path[::-1]\n",
    "        allPaths.add(tuple(path))\n",
    "    return allPaths"
   ]
  },
  {
   "cell_type": "code",
   "execution_count": 64,
   "metadata": {},
   "outputs": [],
   "source": [
    "def JugBFS(jug1Cap , jug2Cap , initial , final):\n",
    "    #setting up the intial states\n",
    "    q = Queue.Queue()\n",
    "    allPaths = set()\n",
    "    vis = set()\n",
    "    parent = {}\n",
    "    q.put(initial)\n",
    "    while not q.empty():\n",
    "        curr = q.get()\n",
    "        if curr in final:\n",
    "            storePath(initial , final , parent , allPaths)\n",
    "            continue\n",
    "        jug1 , jug2 = curr\n",
    "        #filling and emptying jug1 and jug2\n",
    "        succ = [(jug1Cap , jug2) , (jug1 , jug2Cap) , (0 , jug2) , (jug1 , 0)] \n",
    "        #transfer water from jug1 to jug2\n",
    "        spaceRemJug2 = jug2Cap - jug2 \n",
    "        #can we pour entire water in jug2 ??\n",
    "        ## yes if the space remaining in jug 2 >= what is in jug1\n",
    "        if spaceRemJug2 >= jug1 :\n",
    "            succ.append((0 , jug2 + jug1))\n",
    "        else :\n",
    "            succ.append((jug1 - spaceRemJug2 , jug2Cap))\n",
    "        \n",
    "        ## transfer water from jug2 to jug1\n",
    "        spaceRemJug1 = jug1Cap - jug1\n",
    "        if spaceRemJug1 >= jug2 :\n",
    "            succ.append((jug1 + jug2 , 0))\n",
    "        else :\n",
    "            succ.append((jug1Cap , jug2 - spaceRemJug1))\n",
    "\n",
    "        ##dfs calls for all of these child nodes or succ states\n",
    "        for s in succ:\n",
    "            if s not in vis:\n",
    "                vis.add(s)\n",
    "                q.put(s)\n",
    "                parent[s] = curr\n",
    "    return allPaths"
   ]
  },
  {
   "cell_type": "code",
   "execution_count": 65,
   "metadata": {},
   "outputs": [
    {
     "name": "stdout",
     "output_type": "stream",
     "text": [
      "Solution is : \n",
      "((0, 0), (0, 4), (3, 1), (0, 1), (1, 0), (1, 4), (3, 2))\n",
      "((0, 0), (3, 0), (0, 3), (3, 3), (2, 4), (2, 0), (0, 2))\n"
     ]
    }
   ],
   "source": [
    "allPaths = JugBFS(3 , 4 , (0,0) , [(0,2),(1,2),(2,2),(3,2)])\n",
    "if not allPaths :\n",
    "    print(\"No Solution\")\n",
    "else :\n",
    "    print(\"Solution is : \")\n",
    "    for path in allPaths:\n",
    "        print(path)"
   ]
  }
 ],
 "metadata": {
  "kernelspec": {
   "display_name": "Python 3",
   "language": "python",
   "name": "python3"
  },
  "language_info": {
   "codemirror_mode": {
    "name": "ipython",
    "version": 3
   },
   "file_extension": ".py",
   "mimetype": "text/x-python",
   "name": "python",
   "nbconvert_exporter": "python",
   "pygments_lexer": "ipython3",
   "version": "3.10.11"
  }
 },
 "nbformat": 4,
 "nbformat_minor": 2
}
