{
 "cells": [
  {
   "cell_type": "code",
   "execution_count": 7,
   "metadata": {},
   "outputs": [],
   "source": [
    "def JugDFS(jug1Cap , jug2Cap , initial , final):\n",
    "    visited = set()\n",
    "    allPaths = []\n",
    "    path = [(initial)]\n",
    "    def __dfs(curr):\n",
    "        if curr in final:\n",
    "            allPaths.append(path.copy())\n",
    "            return\n",
    "        jug1 , jug2 = curr\n",
    "        #filling and emptying jug1 and jug2\n",
    "        succ = [(jug1Cap , jug2) , (jug1 , jug2Cap) , (0 , jug2) , (jug1 , 0)] \n",
    "        #transfer water from jug1 to jug2\n",
    "        spaceRemJug2 = jug2Cap - jug2 \n",
    "        #can we pour entire water in jug2 ??\n",
    "        ## yes if the space remaining in jug 2 >= what is in jug1\n",
    "        if spaceRemJug2 >= jug1 :\n",
    "            succ.append((0 , jug2 + jug1))\n",
    "        else :\n",
    "            succ.append((jug1 - spaceRemJug2 , jug2Cap))\n",
    "        \n",
    "        ## transfer water from jug2 to jug1\n",
    "        spaceRemJug1 = jug1Cap - jug1\n",
    "        if spaceRemJug1 >= jug2 :\n",
    "            succ.append((jug1 + jug2 , 0))\n",
    "        else :\n",
    "            succ.append((jug1Cap , jug2 - spaceRemJug1))\n",
    "\n",
    "        ##dfs calls for all of these child nodes or succ states\n",
    "        for s in succ:\n",
    "            if s not in visited:\n",
    "                path.append(s)\n",
    "                visited.add(s)\n",
    "                __dfs(s)\n",
    "                path.pop() ##backtracking\n",
    "                # visited.remove(s)\n",
    "    visited.add(initial)\n",
    "    __dfs(initial)\n",
    "    return allPaths"
   ]
  },
  {
   "cell_type": "code",
   "execution_count": 8,
   "metadata": {},
   "outputs": [
    {
     "name": "stdout",
     "output_type": "stream",
     "text": [
      "Solution is : \n",
      "[(0, 0), (3, 0), (3, 4), (0, 4), (3, 1), (0, 1), (1, 0), (1, 4), (3, 2), (0, 2)]\n",
      "[(0, 0), (3, 0), (0, 3), (3, 3), (2, 4), (2, 0)]\n"
     ]
    }
   ],
   "source": [
    "allPaths = JugDFS(3 , 4 , (0,0) , [(0,2) , (2,0)])\n",
    "if not allPaths :\n",
    "    print(\"No Solution\")\n",
    "else :\n",
    "    print(\"Solution is : \")\n",
    "    for path in allPaths:\n",
    "        print(path)"
   ]
  }
 ],
 "metadata": {
  "kernelspec": {
   "display_name": "Python 3",
   "language": "python",
   "name": "python3"
  },
  "language_info": {
   "codemirror_mode": {
    "name": "ipython",
    "version": 3
   },
   "file_extension": ".py",
   "mimetype": "text/x-python",
   "name": "python",
   "nbconvert_exporter": "python",
   "pygments_lexer": "ipython3",
   "version": "3.10.11"
  }
 },
 "nbformat": 4,
 "nbformat_minor": 2
}
