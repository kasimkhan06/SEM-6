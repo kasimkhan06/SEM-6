{
 "cells": [
  {
   "cell_type": "code",
   "execution_count": 7,
   "metadata": {},
   "outputs": [],
   "source": [
    "import queue as Queue"
   ]
  },
  {
   "cell_type": "code",
   "execution_count": 8,
   "metadata": {},
   "outputs": [],
   "source": [
    "def storePath(initial, final, parent):\n",
    "    allPaths = []\n",
    "    for check in parent[final]:\n",
    "        path = [final]\n",
    "        curr = check\n",
    "        while curr != initial:\n",
    "            path.append(curr)\n",
    "            # Accessing the parent of the current node, which is a tuple\n",
    "            curr = parent[curr][-1]  # Take the last element of the tuple\n",
    "        path.append(initial)\n",
    "        path = path[::-1]\n",
    "        allPaths.append(path)\n",
    "    return allPaths\n"
   ]
  },
  {
   "cell_type": "code",
   "execution_count": 9,
   "metadata": {},
   "outputs": [],
   "source": [
    "def generateSucc(currNode): ##to generate the successor nodes\n",
    "    M , C , B = currNode ## curr Node detials\n",
    "    if B == 'L' : ## boat is at the left side of the bank \n",
    "        return [(M - 1 , C , 'R') , (M , C-1 , 'R') , (M-2 , C , 'R') , (M , C-2 , 'R'), (M-1 , C-1 , 'R')]\n",
    "    else : ## Boat is at the right side of the bank\n",
    "        return [(M+1 , C , 'L') , (M , C+1 , 'L') , (M+2 , C , 'L')  , (M , C+2 , 'L') , (M+1 , C+1 , 'L')]\n",
    "    "
   ]
  },
  {
   "cell_type": "code",
   "execution_count": 10,
   "metadata": {},
   "outputs": [],
   "source": [
    "def isValid(currNode , totalMiss , totalCani):\n",
    "    M , C , B = currNode ## curr Node details \n",
    "    ## check at the left side of the bank\n",
    "    if M >= 0 and M <= totalMiss and C >= 0 and C <= totalCani :\n",
    "        if(M > 0 and M < C):\n",
    "            return False\n",
    "    else :\n",
    "        return False\n",
    "    \n",
    "    ## right side of the bank\n",
    "    if (totalMiss - M >= 0 and totalMiss - M <= totalMiss and totalCani - C >=0 and totalCani - C <= totalCani) :\n",
    "        if(totalMiss - M > 0 and totalMiss-M < totalCani - C):\n",
    "            return False\n",
    "    else :\n",
    "        return False\n",
    "    return True"
   ]
  },
  {
   "cell_type": "code",
   "execution_count": 11,
   "metadata": {},
   "outputs": [],
   "source": [
    "def missCanibal(miss , cani , initial , final):\n",
    "    #setting up the initial conditions\n",
    "    allPaths = []\n",
    "    q = Queue.Queue()\n",
    "    vis = set()\n",
    "    q.put(initial)\n",
    "    vis.add(initial)\n",
    "    parent = {} ## to store parents of the nodes to retrive the path\n",
    "    while not q.empty() :\n",
    "        currNode = q.get() #current node\n",
    "        if currNode == final:\n",
    "            continue\n",
    "        #generate successors or child nodes of curr state\n",
    "        succNodes = generateSucc(currNode)\n",
    "        for childrenNode in succNodes:\n",
    "            if childrenNode not in vis and isValid(childrenNode , miss , cani):\n",
    "                q.put(childrenNode)\n",
    "                if(childrenNode != final) :\n",
    "                    vis.add(childrenNode)\n",
    "                if childrenNode in parent :\n",
    "                    parent[childrenNode] = parent[childrenNode] + (currNode,)\n",
    "                else :\n",
    "                    parent[childrenNode] = (currNode ,)\n",
    "    allPaths = storePath(initial , final , parent)\n",
    "    return allPaths"
   ]
  },
  {
   "cell_type": "code",
   "execution_count": 12,
   "metadata": {},
   "outputs": [
    {
     "name": "stdout",
     "output_type": "stream",
     "text": [
      "The Solution is : \n",
      "[(3, 3, 'L'), (3, 1, 'R'), (3, 2, 'L'), (3, 0, 'R'), (3, 1, 'L'), (1, 1, 'R'), (2, 2, 'L'), (0, 2, 'R'), (0, 3, 'L'), (0, 1, 'R'), (1, 1, 'L'), (0, 0, 'R')]\n",
      "[(3, 3, 'L'), (3, 1, 'R'), (3, 2, 'L'), (3, 0, 'R'), (3, 1, 'L'), (1, 1, 'R'), (2, 2, 'L'), (0, 2, 'R'), (0, 3, 'L'), (0, 1, 'R'), (0, 2, 'L'), (0, 0, 'R')]\n"
     ]
    }
   ],
   "source": [
    "missionaries = 3\n",
    "canibals = 3\n",
    "initial = (3 , 3 ,'L')\n",
    "final = (0 , 0 , 'R')\n",
    "allPaths = missCanibal(missionaries , canibals , initial , final)\n",
    "if not allPaths:\n",
    "    print(\"No Solution\")\n",
    "else :\n",
    "    print(\"The Solution is : \")\n",
    "    for path in allPaths:\n",
    "        print(path)"
   ]
  }
 ],
 "metadata": {
  "kernelspec": {
   "display_name": "Python 3",
   "language": "python",
   "name": "python3"
  },
  "language_info": {
   "codemirror_mode": {
    "name": "ipython",
    "version": 3
   },
   "file_extension": ".py",
   "mimetype": "text/x-python",
   "name": "python",
   "nbconvert_exporter": "python",
   "pygments_lexer": "ipython3",
   "version": "3.10.11"
  }
 },
 "nbformat": 4,
 "nbformat_minor": 2
}
