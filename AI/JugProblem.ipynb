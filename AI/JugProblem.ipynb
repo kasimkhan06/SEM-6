{
 "cells": [
  {
   "cell_type": "code",
   "execution_count": 12,
   "metadata": {},
   "outputs": [],
   "source": [
    "def Jug(jug1Cap , jug2Cap , initial , final):\n",
    "    visited = set()\n",
    "    allPaths = []\n",
    "    path = []\n",
    "    def __dfs(curr):\n",
    "        if curr in final:\n",
    "            allPaths.append(path.copy())\n",
    "            return\n",
    "        jug1 , jug2 = curr\n",
    "        #filling and emptying jug1 and jug2\n",
    "        succ = [(jug1Cap , jug2) , (jug1 , jug2Cap) , (0 , jug2) , (jug1 , 0)] \n",
    "        #transfer water from jug1 to jug2\n",
    "        spaceRemJug2 = jug2Cap - jug2 \n",
    "        #can we pour entire water in jug2 ??\n",
    "        ## yes if the space remaining in jug 2 >= what is in jug1\n",
    "        if spaceRemJug2 >= jug1 :\n",
    "            succ.append((0 , jug2 + jug1))\n",
    "        else :\n",
    "            succ.append((jug1 - spaceRemJug2 , jug2Cap))\n",
    "        \n",
    "        ## transfer water from jug2 to jug1\n",
    "        spaceRemJug1 = jug1Cap - jug1\n",
    "        if spaceRemJug1 >= jug2 :\n",
    "            succ.append((jug1 + jug2 , 0))\n",
    "        else :\n",
    "            succ.append((jug1Cap , jug2 - spaceRemJug1))\n",
    "\n",
    "        ##dfs calls for all of these child nodes or succ states\n",
    "        for s in succ:\n",
    "            if s not in visited:\n",
    "                path.append(s)\n",
    "                visited.add(s)\n",
    "                __dfs(s)\n",
    "                path.pop() ##backtracking\n",
    "                visited.remove(s)\n",
    "    visited.add(initial)\n",
    "    __dfs(initial)\n",
    "    if not allPaths:\n",
    "        print(\"No Solution Exists\")\n",
    "        return\n",
    "    for path in allPaths:\n",
    "        print(path)\n"
   ]
  },
  {
   "cell_type": "code",
   "execution_count": 14,
   "metadata": {},
   "outputs": [
    {
     "name": "stdout",
     "output_type": "stream",
     "text": [
      "No Solution Exists\n"
     ]
    }
   ],
   "source": [
    "Jug(8 , 6 , (0,0) , [(5,10)])"
   ]
  }
 ],
 "metadata": {
  "kernelspec": {
   "display_name": "Python 3",
   "language": "python",
   "name": "python3"
  },
  "language_info": {
   "codemirror_mode": {
    "name": "ipython",
    "version": 3
   },
   "file_extension": ".py",
   "mimetype": "text/x-python",
   "name": "python",
   "nbconvert_exporter": "python",
   "pygments_lexer": "ipython3",
   "version": "3.10.11"
  }
 },
 "nbformat": 4,
 "nbformat_minor": 2
}
