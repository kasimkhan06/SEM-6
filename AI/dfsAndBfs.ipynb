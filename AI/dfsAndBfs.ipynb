{
 "cells": [
  {
   "cell_type": "code",
   "execution_count": 44,
   "metadata": {},
   "outputs": [],
   "source": [
    "import queue as Queue"
   ]
  },
  {
   "cell_type": "code",
   "execution_count": 45,
   "metadata": {},
   "outputs": [],
   "source": [
    "def bfs(graph , start):\n",
    "    visited = set()\n",
    "    ans = []\n",
    "    q = Queue.Queue()\n",
    "    q.put(start)\n",
    "    visited.add(start)\n",
    "    while not q.empty():\n",
    "        curr = q.get()\n",
    "        ans.append(curr)\n",
    "        for succ in graph[curr]:\n",
    "            if succ not in visited:\n",
    "                visited.add(succ)\n",
    "                q.put(succ)\n",
    "    return ans"
   ]
  },
  {
   "cell_type": "markdown",
   "metadata": {},
   "source": []
  },
  {
   "cell_type": "code",
   "execution_count": 46,
   "metadata": {},
   "outputs": [],
   "source": [
    "def dfs(graph , start):\n",
    "    visited = set()\n",
    "    ans = []\n",
    "    def __dfs(curr):\n",
    "        visited.add(curr)\n",
    "        ans.append(curr)\n",
    "        for succ in graph[curr]:\n",
    "            if succ not in visited:\n",
    "                __dfs(succ)\n",
    "    __dfs(start)\n",
    "    return ans"
   ]
  },
  {
   "cell_type": "code",
   "execution_count": 47,
   "metadata": {},
   "outputs": [
    {
     "name": "stdout",
     "output_type": "stream",
     "text": [
      "Enter the number of Edges of the graph : \n",
      "Enter the edges of the graph : \n",
      "['A', 'C', 'F', 'G', 'D', 'B', 'E', 'H']\n",
      "['A', 'C', 'D', 'B', 'F', 'G', 'E', 'H']\n"
     ]
    }
   ],
   "source": [
    "#creating the graph\n",
    "graph = {\n",
    "}\n",
    "print(\"Enter the number of Edges of the graph : \")\n",
    "m = int(input())\n",
    "print(\"Enter the edges of the graph : \")\n",
    "for i in range(m):\n",
    "    x  = input()\n",
    "    y = input()\n",
    "    if x not in graph:\n",
    "        graph[x] = []\n",
    "    if y not in graph:\n",
    "        graph[y] = []\n",
    "    graph[x].append(y)\n",
    "    graph[y].append(x)\n",
    "    \n",
    "\n",
    "print(dfs(graph , 'A'))\n",
    "print(bfs(graph , 'A'))"
   ]
  }
 ],
 "metadata": {
  "kernelspec": {
   "display_name": "Python 3",
   "language": "python",
   "name": "python3"
  },
  "language_info": {
   "codemirror_mode": {
    "name": "ipython",
    "version": 3
   },
   "file_extension": ".py",
   "mimetype": "text/x-python",
   "name": "python",
   "nbconvert_exporter": "python",
   "pygments_lexer": "ipython3",
   "version": "3.10.11"
  }
 },
 "nbformat": 4,
 "nbformat_minor": 2
}
