{
 "cells": [
  {
   "cell_type": "code",
   "execution_count": 12,
   "metadata": {},
   "outputs": [],
   "source": [
    "import queue as Queue"
   ]
  },
  {
   "cell_type": "code",
   "execution_count": 13,
   "metadata": {},
   "outputs": [],
   "source": [
    "def bfs(graph , start):\n",
    "    visited = set()\n",
    "    ans = []\n",
    "    q = Queue.Queue()\n",
    "    q.put(start)\n",
    "    visited.add(start)\n",
    "    while not q.empty():\n",
    "        curr = q.get()\n",
    "        ans.append(curr)\n",
    "        for succ in graph[curr]:\n",
    "            if succ not in visited:\n",
    "                visited.add(succ)\n",
    "                q.put(succ)\n",
    "    return ans"
   ]
  },
  {
   "cell_type": "code",
   "execution_count": 14,
   "metadata": {},
   "outputs": [],
   "source": [
    "def dfs(graph , start):\n",
    "    visited = set()\n",
    "    ans = []\n",
    "    def __dfs(curr):\n",
    "        visited.add(curr)\n",
    "        ans.append(curr)\n",
    "        for succ in graph[curr]:\n",
    "            if succ not in visited:\n",
    "                __dfs(succ)\n",
    "    __dfs(start)\n",
    "    return ans"
   ]
  },
  {
   "cell_type": "code",
   "execution_count": null,
   "metadata": {},
   "outputs": [],
   "source": [
    "#creating the graph\n",
    "graph = {\n",
    "}\n",
    "print(\"Enter the number of Edges of the graph : \")\n",
    "m = int(input())\n",
    "print(\"Enter the edges of the graph : \")\n",
    "for i in range(m):\n",
    "    x  = input()\n",
    "    y = input()\n",
    "    if x not in graph:\n",
    "        graph[x] = []\n",
    "    if y not in graph:\n",
    "        graph[y] = []\n",
    "    graph[x].append(y)\n",
    "    graph[y].append(x)\n",
    "\n",
    "#corresponding graph \n",
    "#     A\n",
    "#    / \\\n",
    "#   C   D\n",
    "#  /   / \\\n",
    "# F   B   E\n",
    "#  \\     /\n",
    "#   G   H\n",
    "\n",
    "print(\"The DFS Traversal is : \")\n",
    "print(dfs(graph , 'A'))\n",
    "print(\"The BFS traversal is : \")\n",
    "print(bfs(graph , 'A'))"
   ]
  },
  {
   "cell_type": "markdown",
   "metadata": {},
   "source": [
    "CONCLUSION : BFS AND DFS Algorithm were executed successfully"
   ]
  },
  {
   "cell_type": "markdown",
   "metadata": {},
   "source": []
  }
 ],
 "metadata": {
  "kernelspec": {
   "display_name": "Python 3",
   "language": "python",
   "name": "python3"
  },
  "language_info": {
   "codemirror_mode": {
    "name": "ipython",
    "version": 3
   },
   "file_extension": ".py",
   "mimetype": "text/x-python",
   "name": "python",
   "nbconvert_exporter": "python",
   "pygments_lexer": "ipython3",
   "version": "3.10.11"
  }
 },
 "nbformat": 4,
 "nbformat_minor": 2
}
