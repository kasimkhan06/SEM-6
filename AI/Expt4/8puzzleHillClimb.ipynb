{
 "cells": [
  {
   "cell_type": "code",
   "execution_count": 15,
   "metadata": {},
   "outputs": [],
   "source": [
    "import copy"
   ]
  },
  {
   "cell_type": "code",
   "execution_count": 16,
   "metadata": {},
   "outputs": [],
   "source": [
    "def findEmptySpot(currState):\n",
    "    for i in range(len(currState)):\n",
    "        for j in range(len(currState)):\n",
    "            if currState[i][j] == 0 :\n",
    "                return i , j\n",
    "            "
   ]
  },
  {
   "cell_type": "code",
   "execution_count": 17,
   "metadata": {},
   "outputs": [],
   "source": [
    "def computeCost(currState , finalState):\n",
    "    cost = 0\n",
    "    for i in range(len(currState)):\n",
    "        for j in range(len(finalState)):\n",
    "            if currState[i][j] != finalState[i][j] :\n",
    "                cost+=1\n",
    "    return cost"
   ]
  },
  {
   "cell_type": "code",
   "execution_count": 18,
   "metadata": {},
   "outputs": [],
   "source": [
    "def _8PuzzleUsingHillClimb(initial , final):\n",
    "    #start the algorithm\n",
    "    #generate all the children nodes and check which gives the best value to explore further \n",
    "    currState = copy.deepcopy(initial) #initialize the algorithm\n",
    "\n",
    "    #To check up , right , down , left\n",
    "    drow = [-1 , 0 , +1 , 0] \n",
    "    dcol = [0 , +1 , 0 , -1]\n",
    "\n",
    "    h_x = 0 + computeCost(currState , final)\n",
    "    level = 1\n",
    "\n",
    "    while True : \n",
    "\n",
    "        #print the final selected Node\n",
    "        for i in range(len(currState)):\n",
    "            for j in range(len(currState)):\n",
    "                print(currState[i][j] , \" \" ,end=\"\")\n",
    "            print()\n",
    "        print()\n",
    "\n",
    "        #generate the children Nodes\n",
    "        #find the empty spot\n",
    "        if currState == final :\n",
    "            break\n",
    "        i , j = findEmptySpot(currState)\n",
    "        #move the surrounding four to current four states\n",
    "        childrenNode = copy.deepcopy(currState)\n",
    "        optimalState = copy.deepcopy(currState) #to store the best state among the chidren\n",
    "        found = False\n",
    "        for index in range(len(drow)) :\n",
    "            nrow = drow[index] + i\n",
    "            ncol = dcol[index] + j\n",
    "            #check if the new indices are valid\n",
    "            if nrow >= 0 and nrow < len(currState) and ncol >= 0 and ncol < len(currState) :\n",
    "                childrenNode[i][j] = currState[nrow][ncol]\n",
    "                childrenNode[nrow][ncol] = 0\n",
    "                #calculate the heuristic value \n",
    "                newCost = level + computeCost(childrenNode , final)\n",
    "                if newCost <= h_x : #we found a better state\n",
    "                    found = True\n",
    "                    h_x = newCost\n",
    "                    optimalState =  copy.deepcopy(childrenNode)\n",
    "\n",
    "                #reverse the changes\n",
    "                childrenNode[nrow][ncol] = childrenNode[i][j]\n",
    "                childrenNode[i][j] = 0\n",
    "\n",
    "        if not found : #we didnt get a better state than current\n",
    "            break\n",
    "\n",
    "        currState = copy.deepcopy(optimalState)\n",
    "        level += 1\n"
   ]
  },
  {
   "cell_type": "code",
   "execution_count": 19,
   "metadata": {},
   "outputs": [
    {
     "name": "stdout",
     "output_type": "stream",
     "text": [
      "1  2  3  \n",
      "5  6  0  \n",
      "7  8  4  \n",
      "\n",
      "1  2  3  \n",
      "5  0  6  \n",
      "7  8  4  \n",
      "\n",
      "1  2  3  \n",
      "5  8  6  \n",
      "7  0  4  \n",
      "\n",
      "1  2  3  \n",
      "5  8  6  \n",
      "0  7  4  \n",
      "\n"
     ]
    }
   ],
   "source": [
    "initial  = [[1,2,3],[5,6,0],[7,8,4]]\n",
    "final = [[1,2,3],[5,8,6],[0,7,4]]\n",
    "_8PuzzleUsingHillClimb(initial , final)"
   ]
  }
 ],
 "metadata": {
  "kernelspec": {
   "display_name": "Python 3",
   "language": "python",
   "name": "python3"
  },
  "language_info": {
   "codemirror_mode": {
    "name": "ipython",
    "version": 3
   },
   "file_extension": ".py",
   "mimetype": "text/x-python",
   "name": "python",
   "nbconvert_exporter": "python",
   "pygments_lexer": "ipython3",
   "version": "3.10.11"
  }
 },
 "nbformat": 4,
 "nbformat_minor": 2
}
